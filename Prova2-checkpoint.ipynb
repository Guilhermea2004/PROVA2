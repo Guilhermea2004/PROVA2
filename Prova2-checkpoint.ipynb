{
 "cells": [
  {
   "cell_type": "code",
   "execution_count": 2,
   "id": "2cdbc888-e066-4139-8b3b-6e66f83434d9",
   "metadata": {},
   "outputs": [],
   "source": [
    "# Lista de consumo diário durante 30 dias (em kWh)\n",
    "consumo_diario = [50, 45, 55, 60, 48, 52, 47, 49, 53, 51, \n",
    "                  50, 46, 54, 61, 49, 53, 48, 50, 52, 47, \n",
    "                  56, 50, 55, 60, 48, 52, 47, 49, 53, 51]"
   ]
  },
  {
   "cell_type": "code",
   "execution_count": 4,
   "id": "ca8086e6-d6fe-4234-909f-7deae3e73214",
   "metadata": {},
   "outputs": [],
   "source": [
    "def consumo(lista):\n",
    "    return sum(lista) / len(lista)"
   ]
  },
  {
   "cell_type": "code",
   "execution_count": 6,
   "id": "6c5327b1-b70b-4ee1-923c-07e27ca09240",
   "metadata": {},
   "outputs": [
    {
     "name": "stdout",
     "output_type": "stream",
     "text": [
      "O consumo diario médio foi: 51.36666666666667\n"
     ]
    }
   ],
   "source": [
    "print(f\"O consumo diario médio foi: {consumo(consumo_diario)}\")"
   ]
  },
  {
   "cell_type": "code",
   "execution_count": null,
   "id": "7c6c9d5d-4d26-4e7a-8931-859e7d3e9e41",
   "metadata": {},
   "outputs": [],
   "source": []
  }
 ],
 "metadata": {
  "kernelspec": {
   "display_name": "Python [conda env:base] *",
   "language": "python",
   "name": "conda-base-py"
  },
  "language_info": {
   "codemirror_mode": {
    "name": "ipython",
    "version": 3
   },
   "file_extension": ".py",
   "mimetype": "text/x-python",
   "name": "python",
   "nbconvert_exporter": "python",
   "pygments_lexer": "ipython3",
   "version": "3.12.7"
  }
 },
 "nbformat": 4,
 "nbformat_minor": 5
}
